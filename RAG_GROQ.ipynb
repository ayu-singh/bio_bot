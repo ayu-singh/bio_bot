{
  "nbformat": 4,
  "nbformat_minor": 0,
  "metadata": {
    "colab": {
      "provenance": []
    },
    "kernelspec": {
      "name": "python3",
      "display_name": "Python 3"
    },
    "language_info": {
      "name": "python"
    }
  },
  "cells": [
    {
      "cell_type": "code",
      "source": [
        "# !pip install langchain langchain_community\n",
        "# !pip install fitz\n",
        "# !pip install pymupdf\n",
        "# !pip install faiss-cpu\n",
        "# !pip install -qU langchain-huggingface\n",
        "# !pip install langchain_groq\n",
        "# ! pip install langchain_ollama"
      ],
      "metadata": {
        "id": "RG9ZGWRHpxn8"
      },
      "execution_count": 13,
      "outputs": []
    },
    {
      "cell_type": "code",
      "execution_count": 5,
      "metadata": {
        "id": "Qne3Q8RIpssb"
      },
      "outputs": [],
      "source": [
        "import os\n",
        "from tqdm import tqdm\n",
        "from langchain_groq import ChatGroq\n",
        "from langchain_community.document_loaders import PyMuPDFLoader\n",
        "# from langchain_ollama import OllamaEmbeddings\n",
        "from langchain.text_splitter import RecursiveCharacterTextSplitter\n",
        "from langchain.chains.combine_documents import create_stuff_documents_chain\n",
        "from langchain_core.prompts import ChatPromptTemplate\n",
        "from langchain.chains import create_retrieval_chain\n",
        "from langchain_community.vectorstores import FAISS\n",
        "from langchain_huggingface import HuggingFaceEmbeddings\n",
        "import time\n",
        "\n",
        "## load the Groq API key\n",
        "groq_api_key=os.environ['GROQ_API_KEY'] = \"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\"\n"
      ]
    },
    {
      "cell_type": "code",
      "source": [
        "from google.colab import drive\n",
        "drive.mount('/content/drive')"
      ],
      "metadata": {
        "colab": {
          "base_uri": "https://localhost:8080/"
        },
        "id": "WBBtYDFRrZ43",
        "outputId": "7d996dcb-0c2e-484e-b1ee-e7058aab181a"
      },
      "execution_count": 6,
      "outputs": [
        {
          "output_type": "stream",
          "name": "stdout",
          "text": [
            "Mounted at /content/drive\n"
          ]
        }
      ]
    },
    {
      "cell_type": "code",
      "source": [
        "# embeddings = OllamaEmbeddings(model=\"llama3\")\n",
        "embeddings = HuggingFaceEmbeddings(model_name=\"/content/drive/MyDrive/embeddings/cache/hub/models--sentence-transformers--all-MiniLM-L6-v2/snapshots/8b3219a92973c328a8e22fadcfa821b5dc75636a\")\n",
        "text_splitter=RecursiveCharacterTextSplitter(chunk_size=700,chunk_overlap=200)"
      ],
      "metadata": {
        "id": "A7tK4z1MqrYx",
        "colab": {
          "base_uri": "https://localhost:8080/"
        },
        "outputId": "7b2133a1-d74f-4181-e835-d1ca3a99126b"
      },
      "execution_count": 7,
      "outputs": [
        {
          "output_type": "stream",
          "name": "stderr",
          "text": [
            "/usr/local/lib/python3.10/dist-packages/sentence_transformers/cross_encoder/CrossEncoder.py:11: TqdmExperimentalWarning: Using `tqdm.autonotebook.tqdm` in notebook mode. Use `tqdm.tqdm` instead to force console mode (e.g. in jupyter console)\n",
            "  from tqdm.autonotebook import tqdm, trange\n"
          ]
        }
      ]
    },
    {
      "cell_type": "code",
      "source": [
        "def pdf_page_reader(book, start_page, end_page):\n",
        "  '''\n",
        "  This Function will extract the text from the given start page and end page of the pdf\n",
        "  '''\n",
        "  try:\n",
        "    loader = PyMuPDFLoader(book)\n",
        "    data = loader.load()\n",
        "    number_of_pages = len(data)\n",
        "  except:\n",
        "    print(\"some problem with the pdf, please check\")\n",
        "  if start_page >= 0 and end_page < number_of_pages:\n",
        "    required_data = []\n",
        "    for i in tqdm(range(start_page, end_page+1)):\n",
        "      doc = data[i]\n",
        "      required_data.append(doc)\n",
        "    return required_data\n",
        "  else:\n",
        "    return \"Invalid Range\"\n",
        "\n",
        "pdf_path = \"/content/drive/MyDrive/Concepts of Biology.pdf\"\n",
        "pdf_data = pdf_page_reader(pdf_path, 89, 132)"
      ],
      "metadata": {
        "colab": {
          "base_uri": "https://localhost:8080/"
        },
        "id": "wwnciUHyqrb1",
        "outputId": "cb072137-8fa2-4c27-cca3-6876a692a678"
      },
      "execution_count": 8,
      "outputs": [
        {
          "output_type": "stream",
          "name": "stderr",
          "text": [
            "100%|██████████| 44/44 [00:00<00:00, 57047.72it/s]\n"
          ]
        }
      ]
    },
    {
      "cell_type": "code",
      "source": [
        "final_documents=text_splitter.split_documents(pdf_data)\n",
        "vectors=FAISS.from_documents(final_documents,embeddings)"
      ],
      "metadata": {
        "id": "O-0hK4X8qrhk"
      },
      "execution_count": 9,
      "outputs": []
    },
    {
      "cell_type": "code",
      "source": [
        "vectors.save_local(\"/content/drive/MyDrive/faiss_db\")"
      ],
      "metadata": {
        "id": "ta9MZEBlFIaS"
      },
      "execution_count": 12,
      "outputs": []
    },
    {
      "cell_type": "code",
      "source": [
        "llm=ChatGroq(groq_api_key=groq_api_key,\n",
        "model_name=\"mixtral-8x7b-32768\")\n",
        "prompt=ChatPromptTemplate.from_template(\n",
        "\"\"\"\n",
        "Answer the questions based on the provided context only.\n",
        "Please provide the most accurate response based on the question\n",
        "<context>\n",
        "{context}\n",
        "<context>\n",
        "Questions:{input}\n",
        "\"\"\"\n",
        ")\n",
        "document_chain = create_stuff_documents_chain(llm, prompt)\n",
        "retriever = vectors.as_retriever()\n",
        "retrieval_chain = create_retrieval_chain(retriever, document_chain)"
      ],
      "metadata": {
        "id": "jN3UQb3Tqrke"
      },
      "execution_count": 16,
      "outputs": []
    },
    {
      "cell_type": "code",
      "source": [
        "text = \"what is plasma membrane\"\n",
        "response=retrieval_chain.invoke({\"input\":text})\n"
      ],
      "metadata": {
        "id": "pfjLV_hgut89"
      },
      "execution_count": 21,
      "outputs": []
    },
    {
      "cell_type": "code",
      "source": [
        "response[\"answer\"]"
      ],
      "metadata": {
        "colab": {
          "base_uri": "https://localhost:8080/",
          "height": 125
        },
        "id": "ht926czfurUR",
        "outputId": "9e1a2a99-a341-4013-b4a4-17b44ccc2d1c"
      },
      "execution_count": 22,
      "outputs": [
        {
          "output_type": "execute_result",
          "data": {
            "text/plain": [
              "\"The plasma membrane, also known as the cell membrane, is the outermost layer of a cell that separates the cell's interior from its external environment. It is composed of a bilayer of phospholipids, with their hydrophobic, fatty acid tails in contact with each other. The landscape of the membrane is studded with proteins, some of which span the membrane and serve to transport materials into or out of the cell. Carbohydrates are attached to lipids or proteins on the exterior surface of the plasma membrane, forming complexes that help the cell bind substances it needs from the extracellular fluid. The plasma membrane has both hydrophilic and hydrophobic regions, which allows the movement of certain materials through the membrane while hindering the movement of others. It is not a static structure, but rather a fluid mosaic that is able to move and change in response to the cell's needs.\""
            ],
            "application/vnd.google.colaboratory.intrinsic+json": {
              "type": "string"
            }
          },
          "metadata": {},
          "execution_count": 22
        }
      ]
    }
  ]
}